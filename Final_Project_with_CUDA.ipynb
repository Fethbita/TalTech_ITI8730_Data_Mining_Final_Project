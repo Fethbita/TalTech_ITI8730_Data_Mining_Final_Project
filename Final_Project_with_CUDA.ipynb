{
  "nbformat": 4,
  "nbformat_minor": 0,
  "metadata": {
    "colab": {
      "name": "Final Project with CUDA.ipynb",
      "provenance": [],
      "collapsed_sections": [],
      "authorship_tag": "ABX9TyNur975PmK2DtVx7fASrYVf",
      "include_colab_link": true
    },
    "kernelspec": {
      "name": "python3",
      "display_name": "Python 3"
    },
    "accelerator": "GPU",
    "widgets": {
      "application/vnd.jupyter.widget-state+json": {
        "6e70bd40abb84c4eb86bd13d1bf902db": {
          "model_module": "@jupyter-widgets/controls",
          "model_name": "BoxModel",
          "state": {
            "_view_name": "BoxView",
            "_dom_classes": [],
            "_model_name": "BoxModel",
            "_view_module": "@jupyter-widgets/controls",
            "_model_module_version": "1.5.0",
            "_view_count": null,
            "_view_module_version": "1.5.0",
            "box_style": "",
            "layout": "IPY_MODEL_6ce3312c63ff426b8bd10d9b033a11d8",
            "_model_module": "@jupyter-widgets/controls",
            "children": [
              "IPY_MODEL_19762e1684394ff5a3527a454ba4bf54"
            ]
          }
        },
        "6ce3312c63ff426b8bd10d9b033a11d8": {
          "model_module": "@jupyter-widgets/base",
          "model_name": "LayoutModel",
          "state": {
            "_view_name": "LayoutView",
            "grid_template_rows": null,
            "right": null,
            "justify_content": null,
            "_view_module": "@jupyter-widgets/base",
            "overflow": null,
            "_model_module_version": "1.2.0",
            "_view_count": null,
            "flex_flow": null,
            "width": null,
            "min_width": null,
            "border": null,
            "align_items": null,
            "bottom": null,
            "_model_module": "@jupyter-widgets/base",
            "top": null,
            "grid_column": null,
            "overflow_y": "scroll",
            "overflow_x": null,
            "grid_auto_flow": null,
            "grid_area": null,
            "grid_template_columns": null,
            "flex": null,
            "_model_name": "LayoutModel",
            "justify_items": null,
            "grid_row": null,
            "max_height": null,
            "align_content": null,
            "visibility": null,
            "align_self": null,
            "height": null,
            "min_height": null,
            "padding": null,
            "grid_auto_rows": null,
            "grid_gap": null,
            "max_width": null,
            "order": null,
            "_view_module_version": "1.2.0",
            "grid_template_areas": null,
            "object_position": null,
            "object_fit": null,
            "grid_auto_columns": null,
            "margin": null,
            "display": null,
            "left": null
          }
        },
        "19762e1684394ff5a3527a454ba4bf54": {
          "model_module": "@jupyter-widgets/controls",
          "model_name": "HTMLModel",
          "state": {
            "_view_name": "HTMLView",
            "style": "IPY_MODEL_57572cf3e8a54ca7b318951300fb22f5",
            "_dom_classes": [],
            "description": "",
            "_model_name": "HTMLModel",
            "placeholder": "​",
            "_view_module": "@jupyter-widgets/controls",
            "_model_module_version": "1.5.0",
            "value": "<div class=\"rendered_html jp-RenderedHTMLCommon\"><table><thead><tr><th>Name</th><th>Type</th><th>Value</th></tr></thead><tr><td>LVQ</td><td>function</td><td><function LVQ at 0x7f71d08737b8></td></tr><tr><td>LVQ3</td><td>function</td><td><function LVQ3 at 0x7f6f41b30f28></td></tr><tr><td>VariableInspectorWindow</td><td>type</td><td><class '__main__.VariableInspectorWindow'></td></tr><tr><td>X_codebook</td><td>Tensor</td><td>tensor([[0., 0., 0.,  ..., 0., 0., 0.],\n        [0., 0., 0.,  ..., 0., 0., 0.],\n        [0., 0., 0.,  ..., 0., 0., 0.],\n        ...,\n        [0., 0., 0.,  ..., 0., 0., 0.],\n        [0., 0., 0.,  ..., 0., 0., 0.],\n        [0., 0., 0.,  ..., 0., 0., 0.]], device='cuda:0')</td></tr><tr><td>X_test</td><td>Tensor</td><td>tensor([[0., 0., 0.,  ..., 0., 0., 0.],\n        [0., 0., 0.,  ..., 0., 0., 0.],\n        [0., 0., 0.,  ..., 0., 0., 0.],\n        ...,\n        [0., 0., 0.,  ..., 0., 0., 0.],\n        [0., 0., 0.,  ..., 0., 0., 0.],\n        [0., 0., 0.,  ..., 0., 0., 0.]], device='cuda:0')</td></tr><tr><td>X_train</td><td>Tensor</td><td>tensor([[0., 0., 0.,  ..., 0., 0., 0.],\n        [0., 0., 0.,  ..., 0., 0., 0.],\n        [0., 0., 0.,  ..., 0., 0., 0.],\n        ...,\n        [0., 0., 0.,  ..., 0., 0., 0.],\n        [0., 0., 0.,  ..., 0., 0., 0.],\n        [0., 0., 0.,  ..., 0., 0., 0.]], device='cuda:0')</td></tr><tr><td>Y_codebook</td><td>Tensor</td><td>tensor([ 48.,  48.,  49.,  49.,  50.,  50.,  51.,  51.,  52.,  52.,  53.,  53.,\n         54.,  54.,  55.,  55.,  56.,  56.,  57.,  57.,  65.,  65.,  66.,  66.,\n         67.,  67.,  68.,  68.,  69.,  69.,  70.,  70.,  71.,  71.,  72.,  72.,\n         73.,  73.,  74.,  74.,  75.,  75.,  76.,  76.,  77.,  77.,  78.,  78.,\n         79.,  79.,  80.,  80.,  81.,  81.,  82.,  82.,  83.,  83.,  84.,  84.,\n         85.,  85.,  86.,  86.,  87.,  87.,  88.,  88.,  89.,  89.,  90.,  90.,\n         97.,  97.,  98.,  98., 100., 100., 101., 101., 102., 102., 103., 103.,\n        104., 104., 110., 110., 113., 113., 114., 114., 116., 116.],\n       device='cuda:0')</td></tr><tr><td>Y_test</td><td>Tensor</td><td>tensor([103, 101,  57,  ...,  49,  81,  88], device='cuda:0')</td></tr><tr><td>Y_train</td><td>Tensor</td><td>tensor([87, 87, 87,  ..., 78, 86, 56], device='cuda:0')</td></tr><tr><td>a</td><td>Tensor</td><td>tensor([[0., 0., 0.,  ..., 0., 0., 0.],\n        [0., 0., 0.,  ..., 0., 0., 0.],\n        [0., 0., 0.,  ..., 0., 0., 0.],\n        ...,\n        [0., 0., 0.,  ..., 0., 0., 0.],\n        [0., 0., 0.,  ..., 0., 0., 0.],\n        [0., 0., 0.,  ..., 0., 0., 0.]], device='cuda:0')</td></tr><tr><td>b</td><td>Tensor</td><td>tensor([ 48.,  48.,  48.,  48.,  48.,  49.,  49.,  49.,  49.,  49.,  50.,  50.,\n         50.,  50.,  50.,  51.,  51.,  51.,  51.,  51.,  52.,  52.,  52.,  52.,\n         52.,  53.,  53.,  53.,  53.,  53.,  54.,  54.,  54.,  54.,  54.,  55.,\n         55.,  55.,  55.,  55.,  56.,  56.,  56.,  56.,  56.,  57.,  57.,  57.,\n         57.,  57.,  65.,  65.,  65.,  65.,  65.,  66.,  66.,  66.,  66.,  66.,\n         67.,  67.,  67.,  67.,  67.,  68.,  68.,  68.,  68.,  68.,  69.,  69.,\n         69.,  69.,  69.,  70.,  70.,  70.,  70.,  70.,  71.,  71.,  71.,  71.,\n         71.,  72.,  72.,  72.,  72.,  72.,  73.,  73.,  73.,  73.,  73.,  74.,\n         74.,  74.,  74.,  74.,  75.,  75.,  75.,  75.,  75.,  76.,  76.,  76.,\n         76.,  76.,  77.,  77.,  77.,  77.,  77.,  78.,  78.,  78.,  78.,  78.,\n         79.,  79.,  79.,  79.,  79.,  80.,  80.,  80.,  80.,  80.,  81.,  81.,\n         81.,  81.,  81.,  82.,  82.,  82.,  82.,  82.,  83.,  83.,  83.,  83.,\n         83.,  84.,  84.,  84.,  84.,  84.,  85.,  85.,  85.,  85.,  85.,  86.,\n         86.,  86.,  86.,  86.,  87.,  87.,  87.,  87.,  87.,  88.,  88.,  88.,\n         88.,  88.,  89.,  89.,  89.,  89.,  89.,  90.,  90.,  90.,  90.,  90.,\n         97.,  97.,  97.,  97.,  97.,  98.,  98.,  98.,  98.,  98., 100., 100.,\n        100., 100., 100., 101., 101., 101., 101., 101., 102., 102., 102., 102.,\n        102., 103., 103., 103., 103., 103., 104., 104., 104., 104., 104., 110.,\n        110., 110., 110., 110., 113., 113., 113., 113., 113., 114., 114., 114.,\n        114., 114., 116., 116., 116., 116., 116.], device='cuda:0')</td></tr><tr><td>batch_size</td><td>int</td><td>10000</td></tr><tr><td>cdist</td><td>function</td><td><function cdist at 0x7f71de074400></td></tr><tr><td>delete</td><td>function</td><td><function delete at 0x7f6f41cb2400></td></tr><tr><td>dirname</td><td>str</td><td>/content/gdrive/My Drive/TalTech/Data Mining/emnist/</td></tr><tr><td>dist</td><td>Tensor</td><td>tensor(0.9295, device='cuda:0')</td></tr><tr><td>dists</td><td>Tensor</td><td>tensor([[3634.8960, 3420.4382, 2600.5217,  ..., 3154.8645, 2768.1907,\n         2801.5645],\n        [3129.1721, 3489.2639, 2923.6511,  ..., 2874.4988, 2745.6504,\n         2677.8228],\n        [3350.9514, 2932.5627, 3047.8467,  ..., 3312.4055, 3046.0938,\n         2944.6355],\n        ...,\n        [3078.8877, 2766.4360, 2861.3228,  ..., 3059.1643, 3027.2893,\n         2729.3313],\n        [2951.6091, 3233.1365, 2616.4856,  ..., 2839.2979, 2814.0659,\n         2628.9541],\n        [3172.2048, 3391.1042, 2764.0427,  ..., 2943.4651, 2879.4458,\n         2886.2749]], device='cuda:0')</td></tr><tr><td>drive</td><td>module</td><td><module 'google.colab.drive' from '/usr/local/lib/python3.6/dist-packages/google/colab/drive.py'></td></tr><tr><td>epsilon</td><td>float</td><td>0.2</td></tr><tr><td>gzip</td><td>module</td><td><module 'gzip' from '/usr/lib/python3.6/gzip.py'></td></tr><tr><td>i</td><td>int</td><td>103211</td></tr><tr><td>inspector</td><td>VariableInspectorWindow</td><td><__main__.VariableInspectorWindow object at 0x7f6f41a9ae48></td></tr><tr><td>k</td><td>int</td><td>50</td></tr><tr><td>knn</td><td>function</td><td><function knn at 0x7f71d0129268></td></tr><tr><td>learning_rate</td><td>float</td><td>0.01</td></tr><tr><td>load_dataset</td><td>function</td><td><function load_dataset at 0x7f6f41e3a510></td></tr><tr><td>mapping</td><td>ndarray</td><td>[ 48  49  50  51  52  53  54  55  56  57  65  66  67  68  69  70  71  72\n  73  74  75  76  77  78  79  80  81  82  83  84  85  86  87  88  89  90\n  97  98 100 101 102 103 104 110 113 114 116]</td></tr><tr><td>mode</td><td>function</td><td><function mode at 0x7f71d9466598></td></tr><tr><td>np</td><td>module</td><td><module 'numpy' from '/usr/local/lib/python3.6/dist-packages/numpy/__init__.py'></td></tr><tr><td>plot_data</td><td>function</td><td><function plot_data at 0x7f71d91e6400></td></tr><tr><td>plt</td><td>module</td><td><module 'matplotlib.pyplot' from '/usr/local/lib/python3.6/dist-packages/matplotlib/pyplot.py'></td></tr><tr><td>ppc</td><td>int</td><td>2</td></tr><tr><td>s</td><td>float</td><td>0.96</td></tr><tr><td>topk_idx</td><td>Tensor</td><td>tensor([[42, 37],\n        [65, 63],\n        [47, 64],\n        ...,\n        [47, 45],\n        [ 8,  3],\n        [17, 16]], device='cuda:0')</td></tr><tr><td>topk_val</td><td>Tensor</td><td>tensor([[2538.9690, 2589.1609],\n        [1679.6714, 2370.7744],\n        [2398.9153, 2478.6040],\n        ...,\n        [1925.9357, 2369.1514],\n        [2132.9312, 2244.3792],\n        [2111.8730, 2272.0100]], device='cuda:0')</td></tr><tr><td>torch</td><td>module</td><td><module 'torch' from '/usr/local/lib/python3.6/dist-packages/torch/__init__.py'></td></tr><tr><td>window</td><td>float</td><td>0.2</td></tr><tr><td>x</td><td>Tensor</td><td>tensor([[0, 1, 2],\n        [3, 4, 5],\n        [6, 7, 8]])</td></tr></table></div>",
            "_view_count": null,
            "_view_module_version": "1.5.0",
            "description_tooltip": null,
            "_model_module": "@jupyter-widgets/controls",
            "layout": "IPY_MODEL_fe184e07d9da41188dc971e590a12027"
          }
        },
        "57572cf3e8a54ca7b318951300fb22f5": {
          "model_module": "@jupyter-widgets/controls",
          "model_name": "DescriptionStyleModel",
          "state": {
            "_view_name": "StyleView",
            "_model_name": "DescriptionStyleModel",
            "description_width": "",
            "_view_module": "@jupyter-widgets/base",
            "_model_module_version": "1.5.0",
            "_view_count": null,
            "_view_module_version": "1.2.0",
            "_model_module": "@jupyter-widgets/controls"
          }
        },
        "fe184e07d9da41188dc971e590a12027": {
          "model_module": "@jupyter-widgets/base",
          "model_name": "LayoutModel",
          "state": {
            "_view_name": "LayoutView",
            "grid_template_rows": null,
            "right": null,
            "justify_content": null,
            "_view_module": "@jupyter-widgets/base",
            "overflow": null,
            "_model_module_version": "1.2.0",
            "_view_count": null,
            "flex_flow": null,
            "width": null,
            "min_width": null,
            "border": null,
            "align_items": null,
            "bottom": null,
            "_model_module": "@jupyter-widgets/base",
            "top": null,
            "grid_column": null,
            "overflow_y": null,
            "overflow_x": null,
            "grid_auto_flow": null,
            "grid_area": null,
            "grid_template_columns": null,
            "flex": null,
            "_model_name": "LayoutModel",
            "justify_items": null,
            "grid_row": null,
            "max_height": null,
            "align_content": null,
            "visibility": null,
            "align_self": null,
            "height": null,
            "min_height": null,
            "padding": null,
            "grid_auto_rows": null,
            "grid_gap": null,
            "max_width": null,
            "order": null,
            "_view_module_version": "1.2.0",
            "grid_template_areas": null,
            "object_position": null,
            "object_fit": null,
            "grid_auto_columns": null,
            "margin": null,
            "display": null,
            "left": null
          }
        }
      }
    }
  },
  "cells": [
    {
      "cell_type": "markdown",
      "metadata": {
        "id": "view-in-github",
        "colab_type": "text"
      },
      "source": [
        "<a href=\"https://colab.research.google.com/github/Fethbita/TalTech_ITI8730_Data_Mining_Final_Project/blob/main/Final_Project_with_CUDA.ipynb\" target=\"_parent\"><img src=\"https://colab.research.google.com/assets/colab-badge.svg\" alt=\"Open In Colab\"/></a>"
      ]
    },
    {
      "cell_type": "code",
      "metadata": {
        "colab": {
          "base_uri": "https://localhost:8080/"
        },
        "id": "1cANAhKNqWZG",
        "outputId": "ba35e4fd-b127-494c-beda-b9be162b29dd"
      },
      "source": [
        "#@title Mount drive to colab\n",
        "from google.colab import drive\n",
        "drive.mount('/content/gdrive')\n"
      ],
      "execution_count": 2,
      "outputs": [
        {
          "output_type": "stream",
          "text": [
            "Mounted at /content/gdrive\n"
          ],
          "name": "stdout"
        }
      ]
    },
    {
      "cell_type": "code",
      "metadata": {
        "id": "ASbu6z1Au3yK"
      },
      "source": [
        "import gzip\n",
        "import torch\n",
        "import numpy as np\n",
        "import matplotlib.pyplot as plt\n",
        "\n",
        "from scipy.spatial.distance import cdist\n",
        "# https://stackoverflow.com/a/6252494/6077951\n",
        "from scipy.stats import mode"
      ],
      "execution_count": 3,
      "outputs": []
    },
    {
      "cell_type": "code",
      "metadata": {
        "id": "na6NjIVOvBj1"
      },
      "source": [
        "def load_dataset(images_file, labels_file, mapping_file):\n",
        "    with gzip.open(images_file, 'r') as infile:\n",
        "        infile.read(16)\n",
        "        images = infile.read()\n",
        "    images = np.frombuffer(images, dtype=np.uint8).astype(np.float32)\n",
        "    images = images.reshape(-1, 28 * 28, 1).squeeze()\n",
        "    images = torch.from_numpy(images).cuda()\n",
        "    \n",
        "    with gzip.open(labels_file, 'r') as infile:\n",
        "        infile.read(8)\n",
        "        labels = infile.read()\n",
        "    labels = np.frombuffer(labels, dtype=np.uint8).astype(np.int64)\n",
        "\n",
        "    with open(mapping_file, 'r') as infile:\n",
        "        mapping = infile.read().splitlines()\n",
        "    mapping = [int(i.split()[1]) for i in mapping]\n",
        "    mapping = np.array(mapping)\n",
        "    print(list(map(chr,mapping)))\n",
        "\n",
        "    labels = mapping[labels]\n",
        "    labels = torch.from_numpy(labels).cuda()\n",
        "\n",
        "    return images, labels, mapping"
      ],
      "execution_count": 16,
      "outputs": []
    },
    {
      "cell_type": "code",
      "metadata": {
        "id": "jz5i6LN1RBzM",
        "colab": {
          "base_uri": "https://localhost:8080/"
        },
        "outputId": "b9987345-0520-4b1a-a212-30500bf87696"
      },
      "source": [
        "dirname = \"/content/gdrive/My Drive/TalTech/Data Mining/emnist/\"\n",
        "X_train, Y_train, _ = load_dataset(dirname + 'emnist-balanced-train-images-idx3-ubyte.gz',\n",
        "                                       dirname + 'emnist-balanced-train-labels-idx1-ubyte.gz',\n",
        "                                       dirname + 'emnist-balanced-mapping.txt')\n",
        "\n",
        "X_test, Y_test, mapping = load_dataset(dirname + 'emnist-balanced-test-images-idx3-ubyte.gz',\n",
        "                                       dirname + 'emnist-balanced-test-labels-idx1-ubyte.gz',\n",
        "                                       dirname + 'emnist-balanced-mapping.txt')"
      ],
      "execution_count": 108,
      "outputs": [
        {
          "output_type": "stream",
          "text": [
            "['0', '1', '2', '3', '4', '5', '6', '7', '8', '9', 'A', 'B', 'C', 'D', 'E', 'F', 'G', 'H', 'I', 'J', 'K', 'L', 'M', 'N', 'O', 'P', 'Q', 'R', 'S', 'T', 'U', 'V', 'W', 'X', 'Y', 'Z', 'a', 'b', 'd', 'e', 'f', 'g', 'h', 'n', 'q', 'r', 't']\n",
            "['0', '1', '2', '3', '4', '5', '6', '7', '8', '9', 'A', 'B', 'C', 'D', 'E', 'F', 'G', 'H', 'I', 'J', 'K', 'L', 'M', 'N', 'O', 'P', 'Q', 'R', 'S', 'T', 'U', 'V', 'W', 'X', 'Y', 'Z', 'a', 'b', 'd', 'e', 'f', 'g', 'h', 'n', 'q', 'r', 't']\n"
          ],
          "name": "stdout"
        }
      ]
    },
    {
      "cell_type": "code",
      "metadata": {
        "colab": {
          "base_uri": "https://localhost:8080/"
        },
        "id": "_SyELImHaCZK",
        "outputId": "ab94e983-5475-4c8e-9c3c-99c82b7f91e9"
      },
      "source": [
        "print(X_train.shape)\n",
        "print(X_test.shape)"
      ],
      "execution_count": 6,
      "outputs": [
        {
          "output_type": "stream",
          "text": [
            "torch.Size([112800, 784])\n",
            "torch.Size([18800, 784])\n"
          ],
          "name": "stdout"
        }
      ]
    },
    {
      "cell_type": "code",
      "metadata": {
        "colab": {
          "base_uri": "https://localhost:8080/",
          "height": 620
        },
        "id": "E7n5QADP2k_R",
        "outputId": "fc92286b-cf1b-4cbe-b1f0-5a5f5aa7ab3a"
      },
      "source": [
        "def plot_data(X, Y, columns, rows, pred=None):\n",
        "    fig = plt.figure(figsize=(15, 15))\n",
        "    \n",
        "    for i in range(columns * rows):\n",
        "        img = np.transpose(np.asarray((255 - X[i].cpu()).reshape(28, 28)))\n",
        "        fig.add_subplot(rows, columns, i+1)\n",
        "        plt.imshow(img, cmap=\"gray\")\n",
        "        ax = plt.gca()\n",
        "        ax.axis('off')\n",
        "        ax.text(0, 0, \"label: \" + chr(Y[i]), size=15, ha=\"left\", va=\"bottom\", transform=ax.transAxes)\n",
        "        if pred != None:\n",
        "            ax.text(1, 0, \"pred: \" + chr(pred[i]), size=15, ha=\"right\", va=\"bottom\", transform=ax.transAxes)\n",
        "    plt.show()\n",
        "plot_data(X_train[:10], Y_train[:10], 5, 2)"
      ],
      "execution_count": 7,
      "outputs": [
        {
          "output_type": "display_data",
          "data": {
            "image/png": "[encoded data removed]",
            "text/plain": [
              "<Figure size 1080x1080 with 10 Axes>"
            ]
          },
          "metadata": {
            "tags": [],
            "needs_background": "light"
          }
        }
      ]
    },
    {
      "cell_type": "code",
      "metadata": {
        "id": "6--2j7yL3X6T"
      },
      "source": [
        "#@title k-nearest neighbors (k-NN)\n",
        "def knn(dataset, labels, images, k, batch_size):\n",
        "    if images.dim() != 2:\n",
        "        raise ValueError(\"[!] images should have 2 dimensions. Index with X_test[:1] instead of X_test[0]\")\n",
        "    nm_of_images = images.shape[0]\n",
        "    preds = ()\n",
        "    for i in range(0, nm_of_images, batch_size):\n",
        "        batch = images[i:i+batch_size]\n",
        "        batch = batch.reshape((-1, 28*28))\n",
        "        dists = torch.cdist(dataset, batch)\n",
        "        topk_val, topk_idx = dists.topk(k, dim=0, largest=False)\n",
        "        batch_pred, _ = torch.mode(labels[topk_idx], dim=0)\n",
        "        preds += (batch_pred,)\n",
        "    return torch.cat(preds, dim=0)\n"
      ],
      "execution_count": 8,
      "outputs": []
    },
    {
      "cell_type": "code",
      "metadata": {
        "colab": {
          "base_uri": "https://localhost:8080/",
          "height": 637
        },
        "id": "hcIjn0xJdDHG",
        "outputId": "fdd60609-f5e6-428a-ec58-7219330ecb14"
      },
      "source": [
        "#@title k-nearest neighbors (k-NN) one time run with form\n",
        "k = 3 #@param {type:\"slider\", min:0, max:10, step:1}\n",
        "batch_size = 10000 #@param {type:\"slider\", min:0, max:100000, step:1}\n",
        "\n",
        "pred = knn(X_train, Y_train, X_test, k, batch_size)\n",
        "number_of_correct = torch.sum(pred == Y_test)\n",
        "\n",
        "print(\"With k={}, {} correct guesses out of {}, {:.2f}%, {} classes\".format(k, number_of_correct,\n",
        "                                                                len(Y_test),\n",
        "                                                                number_of_correct / len(Y_test) * 100,\n",
        "                                                                len(torch.unique(Y_test))))\n",
        "plot_data(X_test[pred!=Y_test], Y_test[pred!=Y_test], 5, 2, pred[pred!=Y_test])\n",
        "del pred\n",
        "del number_of_correct"
      ],
      "execution_count": 12,
      "outputs": [
        {
          "output_type": "stream",
          "text": [
            "With k=50, 14002 correct guesses out of 18800, 74.48%, 47 classes\n"
          ],
          "name": "stdout"
        },
        {
          "output_type": "display_data",
          "data": {
            "image/png": "[encoded data removed]",
            "text/plain": [
              "<Figure size 1080x1080 with 10 Axes>"
            ]
          },
          "metadata": {
            "tags": [],
            "needs_background": "light"
          }
        }
      ]
    },
    {
      "cell_type": "code",
      "metadata": {
        "colab": {
          "base_uri": "https://localhost:8080/"
        },
        "id": "9wr4sNlRc3z2",
        "outputId": "6843b148-ecf2-4223-c4f0-3ea8fa50d8d7"
      },
      "source": [
        "#@title k-nearest neighbors (k-NN) tests\n",
        "for k in range(1, 8):\n",
        "    pred = knn(X_train, Y_train, X_test, k, 10000)\n",
        "    number_of_correct = torch.sum(pred == Y_test)\n",
        "    print(\"With k={}, {} correct guesses out of {}, {:.2f}%, {} classes\".format(k, number_of_correct,\n",
        "                                                                    len(Y_test),\n",
        "                                                                    number_of_correct / len(Y_test) * 100,\n",
        "                                                                    len(torch.unique(Y_test))))\n",
        "    del pred\n",
        "    del number_of_correct"
      ],
      "execution_count": 10,
      "outputs": [
        {
          "output_type": "stream",
          "text": [
            "With k=1, 14452 correct guesses out of 18800, 76.87%, 47 classes\n",
            "With k=2, 14300 correct guesses out of 18800, 76.06%, 47 classes\n",
            "With k=3, 14667 correct guesses out of 18800, 78.02%, 47 classes\n",
            "With k=4, 14723 correct guesses out of 18800, 78.31%, 47 classes\n",
            "With k=5, 14751 correct guesses out of 18800, 78.46%, 47 classes\n",
            "With k=6, 14715 correct guesses out of 18800, 78.27%, 47 classes\n",
            "With k=7, 14739 correct guesses out of 18800, 78.40%, 47 classes\n"
          ],
          "name": "stdout"
        }
      ]
    },
    {
      "cell_type": "code",
      "metadata": {
        "colab": {
          "base_uri": "https://localhost:8080/"
        },
        "id": "R-BgPxpUFPwF",
        "outputId": "fa303c6e-6b3b-4ad1-908f-0691c9064bcd"
      },
      "source": [
        ""
      ],
      "execution_count": 34,
      "outputs": [
        {
          "output_type": "stream",
          "text": [
            "tensor([[0, 1, 2],\n",
            "        [3, 4, 5],\n",
            "        [6, 7, 8]])\n"
          ],
          "name": "stdout"
        },
        {
          "output_type": "execute_result",
          "data": {
            "text/plain": [
              "tensor([[0, 1, 2],\n",
              "        [3, 4, 5],\n",
              "        [6, 7, 8]])"
            ]
          },
          "metadata": {
            "tags": []
          },
          "execution_count": 34
        }
      ]
    },
    {
      "cell_type": "code",
      "metadata": {
        "id": "zQokpzPWeJK7"
      },
      "source": [
        "# Inspired by http://ccy.dd.ncu.edu.tw/~chen/course/Neural/ch4/index.htm\n",
        "def LVQ3(dataset, labels, ppc, learning_rate, window, epsilon, epoch):\n",
        "    X_codebook = []\n",
        "    Y_codebook = []\n",
        "    to_remove_indices = []\n",
        "    for i in mapping:\n",
        "        X_codebook.append(dataset[labels == i][:ppc])\n",
        "        Y_codebook.extend([i] * ppc)\n",
        "        to_remove_indices.append(torch.squeeze(torch.nonzero(labels == i)[:ppc]))\n",
        "    X_codebook = torch.cat(X_codebook).cuda()\n",
        "    Y_codebook = torch.Tensor(Y_codebook).cuda()\n",
        "    to_remove_indices = torch.cat(to_remove_indices).cpu().numpy()\n",
        "    dataset = torch.from_numpy(np.delete(dataset.cpu().numpy(), to_remove_indices, 0)).cuda() # Remove codebook elements\n",
        "    labels = torch.from_numpy(np.delete(labels.cpu().numpy(), to_remove_indices, 0)).cuda() # Remove codebook elements\n",
        "    del to_remove_indices\n",
        "\n",
        "    s = (1 - window) * (1 + window)\n",
        "    for _ in range(epoch):\n",
        "        for i in range(len(labels)):\n",
        "            dists = torch.cdist(dataset[i:i+1], X_codebook)\n",
        "            topk_val, topk_idx = dists.topk(2, dim=1, largest=False) # Find closest 2 codebook elements for training sample\n",
        "            dist = torch.min(topk_val[0][0] / topk_val[0][1], topk_val[0][1] / topk_val[0][1])\n",
        "            if dist > s: # learning condition\n",
        "                # If closest belongs to the class as the training sample and the second closest does not\n",
        "                if Y_codebook[topk_idx[0][0]] == labels[i] and Y_codebook[topk_idx[0][1]] != labels[i]:\n",
        "                    X_codebook[topk_idx[0][0]] += learning_rate * (dataset[i] - X_codebook[topk_idx[0][0]])\n",
        "                    X_codebook[topk_idx[0][1]] -= learning_rate * (dataset[i] - X_codebook[topk_idx[0][1]])\n",
        "                # If closest doesn't belong to the class as the training sample and the second closest does\n",
        "                elif Y_codebook[topk_idx[0][0]] != labels[i] and Y_codebook[topk_idx[0][1]] == labels[i]:\n",
        "                    X_codebook[topk_idx[0][0]] -= learning_rate * (dataset[i] - X_codebook[topk_idx[0][0]])\n",
        "                    X_codebook[topk_idx[0][1]] += learning_rate * (dataset[i] - X_codebook[topk_idx[0][1]])\n",
        "                # Both closest belong to the same class as the training sample\n",
        "                elif Y_codebook[topk_idx[0][0]] == labels[i] and Y_codebook[topk_idx[0][1]] == labels[i]:\n",
        "                    X_codebook[topk_idx[0][0]] += learning_rate * epsilon * (dataset[i] - X_codebook[topk_idx[0][0]])\n",
        "                    X_codebook[topk_idx[0][1]] += learning_rate * epsilon * (dataset[i] - X_codebook[topk_idx[0][1]])\n",
        "                # Both closest don't belong to the class then update the closest\n",
        "                else:\n",
        "                    X_codebook[topk_idx[0][0]] -= learning_rate * (dataset[i] - X_codebook[topk_idx[0][0]])\n",
        "    return X_codebook, Y_codebook\n",
        "\n",
        "a, b = LVQ3(X_train, Y_train, 5, 0.01, 0.25, 0.3, 1)"
      ],
      "execution_count": 192,
      "outputs": []
    },
    {
      "cell_type": "code",
      "metadata": {
        "id": "Fwx6ui9AwZ8G"
      },
      "source": [
        "ppc = 2\n",
        "window = 0.2\n",
        "learning_rate = 0.01\n",
        "epsilon = 0.2 # 0.1 < m < 0.5\n",
        "X_codebook = []\n",
        "Y_codebook = []\n",
        "to_remove_indices = []\n",
        "for i in torch.unique(Y_train):\n",
        "    X_codebook.append(X_train[Y_train == i][:ppc])\n",
        "    Y_codebook.extend([i] * ppc)\n",
        "    to_remove_indices.append(torch.squeeze(torch.nonzero(Y_train == i)[:ppc]))\n",
        "X_codebook = torch.cat(X_codebook).cuda()\n",
        "Y_codebook = torch.Tensor(Y_codebook).cuda()\n",
        "to_remove_indices = torch.cat(to_remove_indices).cpu().numpy()\n",
        "X_train = torch.from_numpy(np.delete(X_train.cpu().numpy(), to_remove_indices, 0)).cuda() # Remove codebook elements\n",
        "Y_train = torch.from_numpy(np.delete(Y_train.cpu().numpy(), to_remove_indices, 0)).cuda() # Remove codebook elements\n",
        "del to_remove_indices\n",
        "\n",
        "s = (1 - window) * (1 + window)\n",
        "dists = torch.cdist(X_train, X_codebook)\n",
        "topk_val, topk_idx = dists.topk(2, dim=1, largest=False) # Find closest 2 codebook elements for training sample\n",
        "for i in range(len(Y_train)):\n",
        "    dist = torch.min(topk_val[i][0] / topk_val[i][1], topk_val[i][1] / topk_val[i][1])\n",
        "    if dist > s: # learning condition\n",
        "        # If closest belongs to the class as the training sample and the second closest does not\n",
        "        if Y_codebook[topk_idx[i][0]] == Y_train[i] and Y_codebook[topk_idx[i][1]] != Y_train[i]:\n",
        "            X_codebook[topk_idx[i][0]] += learning_rate * (X_train[i] - X_codebook[topk_idx[i][0]])\n",
        "            X_codebook[topk_idx[i][1]] -= learning_rate * (X_train[i] - X_codebook[topk_idx[i][1]])\n",
        "        # If closest doesn't belong to the class as the training sample and the second closest does\n",
        "        elif Y_codebook[topk_idx[i][0]] != Y_train[i] and Y_codebook[topk_idx[i][1]] == Y_train[i]:\n",
        "            X_codebook[topk_idx[i][0]] -= learning_rate * (X_train[i] - X_codebook[topk_idx[i][0]])\n",
        "            X_codebook[topk_idx[i][1]] += learning_rate * (X_train[i] - X_codebook[topk_idx[i][1]])\n",
        "        # Both closest belong to the same class as the training sample\n",
        "        elif Y_codebook[topk_idx[i][0]] == Y_train[i] and Y_codebook[topk_idx[i][1]] == Y_train[i]:\n",
        "            X_codebook[topk_idx[i][0]] += learning_rate * epsilon * (X_train[i] - X_codebook[topk_idx[i][0]])\n",
        "            X_codebook[topk_idx[i][1]] += learning_rate * epsilon * (X_train[i] - X_codebook[topk_idx[i][1]])\n",
        "        # Both closest don't belong to the class then update the closest\n",
        "        else:\n",
        "            X_codebook[topk_idx[i][0]] -= learning_rate * (X_train[i] - X_codebook[topk_idx[i][0]])\n"
      ],
      "execution_count": 189,
      "outputs": []
    },
    {
      "cell_type": "code",
      "metadata": {
        "id": "OJ1ZtLckc0P1"
      },
      "source": [
        "X_train[0:1] == X_train[0]\n",
        "dists = torch.cdist(X_train[2:3], X_codebook)\n",
        "topk_val, topk_idx = dists.topk(2, dim=1, largest=False)"
      ],
      "execution_count": 181,
      "outputs": []
    },
    {
      "cell_type": "code",
      "metadata": {
        "colab": {
          "base_uri": "https://localhost:8080/"
        },
        "id": "0gvt3_JcPyLz",
        "outputId": "b8dfcbfa-a99d-4f62-8d4e-5f3bf0e20af0"
      },
      "source": [
        ""
      ],
      "execution_count": 188,
      "outputs": [
        {
          "output_type": "execute_result",
          "data": {
            "text/plain": [
              "tensor([ 48,  49,  50,  51,  52,  53,  54,  55,  56,  57,  65,  66,  67,  68,\n",
              "         69,  70,  71,  72,  73,  74,  75,  76,  77,  78,  79,  80,  81,  82,\n",
              "         83,  84,  85,  86,  87,  88,  89,  90,  97,  98, 100, 101, 102, 103,\n",
              "        104, 110, 113, 114, 116], device='cuda:0')"
            ]
          },
          "metadata": {
            "tags": []
          },
          "execution_count": 188
        }
      ]
    },
    {
      "cell_type": "code",
      "metadata": {
        "id": "zIpyvlb0PnBJ"
      },
      "source": [
        "#@title k-nearest neighbors (k-NN)\n",
        "def knn(dataset, labels, images, k, batch_size):\n",
        "    if images.dim() != 2:\n",
        "        raise ValueError(\"[!] images should have 2 dimensions. Index with X_test[:1] instead of X_test[0]\")\n",
        "    nm_of_images = images.shape[0]\n",
        "    preds = ()\n",
        "    for i in range(0, nm_of_images, batch_size):\n",
        "        batch = images[i:i+batch_size]\n",
        "        batch = batch.reshape((-1, 28*28))\n",
        "        dists = torch.cdist(dataset, batch)\n",
        "        topk_val, topk_idx = dists.topk(k, dim=0, largest=False)\n",
        "        batch_pred, _ = torch.mode(labels[topk_idx], dim=0)\n",
        "        preds += (batch_pred,)\n",
        "    return torch.cat(preds, dim=0)\n"
      ],
      "execution_count": null,
      "outputs": []
    },
    {
      "cell_type": "code",
      "metadata": {
        "colab": {
          "base_uri": "https://localhost:8080/"
        },
        "id": "HGrDgjF_LkAI",
        "outputId": "f99dd6b6-d68c-40da-dc6b-a6514b191742"
      },
      "source": [
        "dists.shape"
      ],
      "execution_count": 117,
      "outputs": [
        {
          "output_type": "execute_result",
          "data": {
            "text/plain": [
              "torch.Size([109040, 940])"
            ]
          },
          "metadata": {
            "tags": []
          },
          "execution_count": 117
        }
      ]
    },
    {
      "cell_type": "code",
      "metadata": {
        "colab": {
          "base_uri": "https://localhost:8080/"
        },
        "id": "nN0EuwkMG0Cd",
        "outputId": "c174326c-a832-4524-bbd5-3202558e5348"
      },
      "source": [
        "torch.from_numpy(np.delete(Y_train.cpu().numpy(), to_remove_indices, 0)).cuda().shape"
      ],
      "execution_count": 98,
      "outputs": [
        {
          "output_type": "execute_result",
          "data": {
            "text/plain": [
              "torch.Size([111860])"
            ]
          },
          "metadata": {
            "tags": []
          },
          "execution_count": 98
        }
      ]
    },
    {
      "cell_type": "code",
      "metadata": {
        "cellView": "form",
        "id": "N5pU618kaSQ9"
      },
      "source": [
        "#@title # Variable Inspector Widget (for debugging)\n",
        "#@markdown Included for debugging\n",
        "\n",
        "#@markdown Taken from https://github.com/jupyter-widgets/ipywidgets/blob/7.x/docs/source/examples/Variable%20Inspector.ipynb\n",
        "\n",
        "import ipywidgets as widgets # Loads the Widget framework.\n",
        "from IPython.core.magics.namespace import NamespaceMagics # Used to query namespace.\n",
        "\n",
        "# For this example, hide these names, just to avoid polluting the namespace further\n",
        "get_ipython().user_ns_hidden['widgets'] = widgets\n",
        "get_ipython().user_ns_hidden['NamespaceMagics'] = NamespaceMagics\n",
        "\n",
        "class VariableInspectorWindow(object):\n",
        "    instance = None\n",
        "    \n",
        "    def __init__(self, ipython):\n",
        "        \"\"\"Public constructor.\"\"\"\n",
        "        if VariableInspectorWindow.instance is not None:\n",
        "            raise Exception(\"\"\"Only one instance of the Variable Inspector can exist at a \n",
        "                time.  Call close() on the active instance before creating a new instance.\n",
        "                If you have lost the handle to the active instance, you can re-obtain it\n",
        "                via `VariableInspectorWindow.instance`.\"\"\")\n",
        "        \n",
        "        VariableInspectorWindow.instance = self\n",
        "        self.closed = False\n",
        "        self.namespace = NamespaceMagics()\n",
        "        self.namespace.shell = ipython.kernel.shell\n",
        "        \n",
        "        self._box = widgets.Box()\n",
        "        self._box.layout.overflow_y = 'scroll'\n",
        "        self._table = widgets.HTML(value = 'Not hooked')\n",
        "        self._box.children = [self._table]\n",
        "        \n",
        "        self._ipython = ipython\n",
        "        self._ipython.events.register('post_run_cell', self._fill)\n",
        "        \n",
        "    def close(self):\n",
        "        \"\"\"Close and remove hooks.\"\"\"\n",
        "        if not self.closed:\n",
        "            self._ipython.events.unregister('post_run_cell', self._fill)\n",
        "            self._box.close()\n",
        "            self.closed = True\n",
        "            VariableInspectorWindow.instance = None\n",
        "\n",
        "    def _fill(self):\n",
        "        \"\"\"Fill self with variable information.\"\"\"\n",
        "        values = self.namespace.who_ls()\n",
        "        self._table.value = '<div class=\"rendered_html jp-RenderedHTMLCommon\"><table><thead><tr><th>Name</th><th>Type</th><th>Value</th></tr></thead><tr><td>' + \\\n",
        "            '</td></tr><tr><td>'.join(['{0}</td><td>{1}</td><td>{2}'.format(v, type(eval(v)).__name__, str(eval(v))) for v in values]) + \\\n",
        "            '</td></tr></table></div>'\n",
        "\n",
        "    def _ipython_display_(self):\n",
        "        \"\"\"Called when display() or pyout is used to display the Variable \n",
        "        Inspector.\"\"\"\n",
        "        self._box._ipython_display_()\n",
        "inspector = VariableInspectorWindow(get_ipython())"
      ],
      "execution_count": 101,
      "outputs": []
    },
    {
      "cell_type": "code",
      "metadata": {
        "colab": {
          "base_uri": "https://localhost:8080/",
          "height": 1000,
          "referenced_widgets": [
            "6e70bd40abb84c4eb86bd13d1bf902db",
            "6ce3312c63ff426b8bd10d9b033a11d8",
            "19762e1684394ff5a3527a454ba4bf54",
            "57572cf3e8a54ca7b318951300fb22f5",
            "fe184e07d9da41188dc971e590a12027"
          ]
        },
        "id": "mtoH_83waTJZ",
        "outputId": "17ef962e-6004-4d94-fee5-776535f88b91"
      },
      "source": [
        "inspector"
      ],
      "execution_count": 114,
      "outputs": [
        {
          "output_type": "display_data",
          "data": {
            "application/vnd.jupyter.widget-view+json": {
              "model_id": "6e70bd40abb84c4eb86bd13d1bf902db",
              "version_minor": 0,
              "version_major": 2
            },
            "text/plain": [
              "Box(children=(HTML(value='<div class=\"rendered_html jp-RenderedHTMLCommon\"><table><thead><tr><th>Name</th><th>…"
            ]
          },
          "metadata": {
            "tags": []
          }
        }
      ]
    },
    {
      "cell_type": "code",
      "metadata": {
        "id": "xsfmF5ZxjXvF"
      },
      "source": [
        ""
      ],
      "execution_count": null,
      "outputs": []
    }
  ]
}