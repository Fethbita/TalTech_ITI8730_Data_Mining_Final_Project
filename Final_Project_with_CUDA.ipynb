{
  "nbformat": 4,
  "nbformat_minor": 0,
  "metadata": {
    "colab": {
      "name": "Final Project with CUDA.ipynb",
      "provenance": [],
      "collapsed_sections": [],
      "authorship_tag": "ABX9TyMbCmtQgVpOHplKv3F77aJG",
      "include_colab_link": true
    },
    "kernelspec": {
      "name": "python3",
      "display_name": "Python 3"
    },
    "accelerator": "GPU",
    "widgets": {
      "application/vnd.jupyter.widget-state+json": {
        "74ae45f1ae074da6911f69ab8adc9701": {
          "model_module": "@jupyter-widgets/controls",
          "model_name": "BoxModel",
          "state": {
            "_view_name": "BoxView",
            "_dom_classes": [],
            "_model_name": "BoxModel",
            "_view_module": "@jupyter-widgets/controls",
            "_model_module_version": "1.5.0",
            "_view_count": null,
            "_view_module_version": "1.5.0",
            "box_style": "",
            "layout": "IPY_MODEL_a9e1768dffaf476aa12bd3d78f706e64",
            "_model_module": "@jupyter-widgets/controls",
            "children": [
              "IPY_MODEL_68e5c051afd644cab24e6221fd71ed68"
            ]
          }
        },
        "a9e1768dffaf476aa12bd3d78f706e64": {
          "model_module": "@jupyter-widgets/base",
          "model_name": "LayoutModel",
          "state": {
            "_view_name": "LayoutView",
            "grid_template_rows": null,
            "right": null,
            "justify_content": null,
            "_view_module": "@jupyter-widgets/base",
            "overflow": null,
            "_model_module_version": "1.2.0",
            "_view_count": null,
            "flex_flow": null,
            "width": null,
            "min_width": null,
            "border": null,
            "align_items": null,
            "bottom": null,
            "_model_module": "@jupyter-widgets/base",
            "top": null,
            "grid_column": null,
            "overflow_y": "scroll",
            "overflow_x": null,
            "grid_auto_flow": null,
            "grid_area": null,
            "grid_template_columns": null,
            "flex": null,
            "_model_name": "LayoutModel",
            "justify_items": null,
            "grid_row": null,
            "max_height": null,
            "align_content": null,
            "visibility": null,
            "align_self": null,
            "height": null,
            "min_height": null,
            "padding": null,
            "grid_auto_rows": null,
            "grid_gap": null,
            "max_width": null,
            "order": null,
            "_view_module_version": "1.2.0",
            "grid_template_areas": null,
            "object_position": null,
            "object_fit": null,
            "grid_auto_columns": null,
            "margin": null,
            "display": null,
            "left": null
          }
        },
        "68e5c051afd644cab24e6221fd71ed68": {
          "model_module": "@jupyter-widgets/controls",
          "model_name": "HTMLModel",
          "state": {
            "_view_name": "HTMLView",
            "style": "IPY_MODEL_800cb46a4e3a40e3b6281e016dc4c8c6",
            "_dom_classes": [],
            "description": "",
            "_model_name": "HTMLModel",
            "placeholder": "​",
            "_view_module": "@jupyter-widgets/controls",
            "_model_module_version": "1.5.0",
            "value": "<div class=\"rendered_html jp-RenderedHTMLCommon\"><table><thead><tr><th>Name</th><th>Type</th><th>Value</th></tr></thead><tr><td>LVQ</td><td>function</td><td><function LVQ at 0x7fd278967b70></td></tr><tr><td>VariableInspectorWindow</td><td>type</td><td><class '__main__.VariableInspectorWindow'></td></tr><tr><td>X_test</td><td>Tensor</td><td>tensor([[0., 0., 0.,  ..., 0., 0., 0.],\n        [0., 0., 0.,  ..., 0., 0., 0.],\n        [0., 0., 0.,  ..., 0., 0., 0.],\n        ...,\n        [0., 0., 0.,  ..., 0., 0., 0.],\n        [0., 0., 0.,  ..., 0., 0., 0.],\n        [0., 0., 0.,  ..., 0., 0., 0.]], device='cuda:0')</td></tr><tr><td>X_train</td><td>Tensor</td><td>tensor([[0., 0., 0.,  ..., 0., 0., 0.],\n        [0., 0., 0.,  ..., 0., 0., 0.],\n        [0., 0., 0.,  ..., 0., 0., 0.],\n        ...,\n        [0., 0., 0.,  ..., 0., 0., 0.],\n        [0., 0., 0.,  ..., 0., 0., 0.],\n        [0., 0., 0.,  ..., 0., 0., 0.]], device='cuda:0')</td></tr><tr><td>Y_test</td><td>Tensor</td><td>tensor([103, 101,  57,  ...,  49,  81,  88], device='cuda:0')</td></tr><tr><td>Y_train</td><td>Tensor</td><td>tensor([114,  97, 110,  ...,  78,  86,  56], device='cuda:0')</td></tr><tr><td>batch_size</td><td>int</td><td>10000</td></tr><tr><td>cdist</td><td>function</td><td><function cdist at 0x7fd27d82b598></td></tr><tr><td>dirname</td><td>str</td><td>/content/gdrive/My Drive/TalTech/Data Mining/emnist/</td></tr><tr><td>drive</td><td>module</td><td><module 'google.colab.drive' from '/usr/local/lib/python3.6/dist-packages/google/colab/drive.py'></td></tr><tr><td>gzip</td><td>module</td><td><module 'gzip' from '/usr/lib/python3.6/gzip.py'></td></tr><tr><td>inspector</td><td>VariableInspectorWindow</td><td><__main__.VariableInspectorWindow object at 0x7fd209d632e8></td></tr><tr><td>k</td><td>int</td><td>3</td></tr><tr><td>knn</td><td>function</td><td><function knn at 0x7fd2098cf378></td></tr><tr><td>load_dataset</td><td>function</td><td><function load_dataset at 0x7fd278616ae8></td></tr><tr><td>mode</td><td>function</td><td><function mode at 0x7fd278c02730></td></tr><tr><td>np</td><td>module</td><td><module 'numpy' from '/usr/local/lib/python3.6/dist-packages/numpy/__init__.py'></td></tr><tr><td>number_of_correct</td><td>Tensor</td><td>tensor(14667, device='cuda:0')</td></tr><tr><td>plot_data</td><td>function</td><td><function plot_data at 0x7fcfd9a11bf8></td></tr><tr><td>plt</td><td>module</td><td><module 'matplotlib.pyplot' from '/usr/local/lib/python3.6/dist-packages/matplotlib/pyplot.py'></td></tr><tr><td>result</td><td>Tensor</td><td>tensor([103, 101,  57,  ...,  49,  81,  88], device='cuda:0')</td></tr><tr><td>torch</td><td>module</td><td><module 'torch' from '/usr/local/lib/python3.6/dist-packages/torch/__init__.py'></td></tr></table></div>",
            "_view_count": null,
            "_view_module_version": "1.5.0",
            "description_tooltip": null,
            "_model_module": "@jupyter-widgets/controls",
            "layout": "IPY_MODEL_7bbe4b7ceb1f42b0935f4fa96064ba0f"
          }
        },
        "800cb46a4e3a40e3b6281e016dc4c8c6": {
          "model_module": "@jupyter-widgets/controls",
          "model_name": "DescriptionStyleModel",
          "state": {
            "_view_name": "StyleView",
            "_model_name": "DescriptionStyleModel",
            "description_width": "",
            "_view_module": "@jupyter-widgets/base",
            "_model_module_version": "1.5.0",
            "_view_count": null,
            "_view_module_version": "1.2.0",
            "_model_module": "@jupyter-widgets/controls"
          }
        },
        "7bbe4b7ceb1f42b0935f4fa96064ba0f": {
          "model_module": "@jupyter-widgets/base",
          "model_name": "LayoutModel",
          "state": {
            "_view_name": "LayoutView",
            "grid_template_rows": null,
            "right": null,
            "justify_content": null,
            "_view_module": "@jupyter-widgets/base",
            "overflow": null,
            "_model_module_version": "1.2.0",
            "_view_count": null,
            "flex_flow": null,
            "width": null,
            "min_width": null,
            "border": null,
            "align_items": null,
            "bottom": null,
            "_model_module": "@jupyter-widgets/base",
            "top": null,
            "grid_column": null,
            "overflow_y": null,
            "overflow_x": null,
            "grid_auto_flow": null,
            "grid_area": null,
            "grid_template_columns": null,
            "flex": null,
            "_model_name": "LayoutModel",
            "justify_items": null,
            "grid_row": null,
            "max_height": null,
            "align_content": null,
            "visibility": null,
            "align_self": null,
            "height": null,
            "min_height": null,
            "padding": null,
            "grid_auto_rows": null,
            "grid_gap": null,
            "max_width": null,
            "order": null,
            "_view_module_version": "1.2.0",
            "grid_template_areas": null,
            "object_position": null,
            "object_fit": null,
            "grid_auto_columns": null,
            "margin": null,
            "display": null,
            "left": null
          }
        }
      }
    }
  },
  "cells": [
    {
      "cell_type": "markdown",
      "metadata": {
        "id": "view-in-github",
        "colab_type": "text"
      },
      "source": [
        "<a href=\"https://colab.research.google.com/github/Fethbita/TalTech_ITI8730_Data_Mining_Final_Project/blob/main/Final%20Project%20with%20CUDA.ipynb\" target=\"_parent\"><img src=\"https://colab.research.google.com/assets/colab-badge.svg\" alt=\"Open In Colab\"/></a>"
      ]
    },
    {
      "cell_type": "code",
      "metadata": {
        "colab": {
          "base_uri": "https://localhost:8080/"
        },
        "id": "1cANAhKNqWZG",
        "outputId": "fb656631-16fe-4328-872f-e6f5b61371a4"
      },
      "source": [
        "#@title Mount drive to colab\n",
        "from google.colab import drive\n",
        "drive.mount('/content/gdrive')\n"
      ],
      "execution_count": 1,
      "outputs": [
        {
          "output_type": "stream",
          "text": [
            "Drive already mounted at /content/gdrive; to attempt to forcibly remount, call drive.mount(\"/content/gdrive\", force_remount=True).\n"
          ],
          "name": "stdout"
        }
      ]
    },
    {
      "cell_type": "code",
      "metadata": {
        "id": "ASbu6z1Au3yK"
      },
      "source": [
        "import gzip\n",
        "import torch\n",
        "import numpy as np\n",
        "import matplotlib.pyplot as plt\n",
        "\n",
        "from scipy.spatial.distance import cdist\n",
        "# https://stackoverflow.com/a/6252494/6077951\n",
        "from scipy.stats import mode"
      ],
      "execution_count": 2,
      "outputs": []
    },
    {
      "cell_type": "code",
      "metadata": {
        "id": "na6NjIVOvBj1"
      },
      "source": [
        "def load_dataset(images_file, labels_file, mapping_file):\n",
        "    with gzip.open(images_file, 'r') as infile:\n",
        "        infile.read(16)\n",
        "        images = infile.read()\n",
        "    images = np.frombuffer(images, dtype=np.uint8).astype(np.float32)\n",
        "    images = images.reshape(-1, 28 * 28, 1).squeeze()\n",
        "    images = torch.from_numpy(images).cuda()\n",
        "    \n",
        "    with gzip.open(labels_file, 'r') as infile:\n",
        "        infile.read(8)\n",
        "        labels = infile.read()\n",
        "    labels = np.frombuffer(labels, dtype=np.uint8).astype(np.int64)\n",
        "\n",
        "    with open(mapping_file, 'r') as infile:\n",
        "        mapping = infile.read().splitlines()\n",
        "    mapping = [int(i.split()[1]) for i in mapping]\n",
        "    mapping = np.array(mapping)\n",
        "\n",
        "    labels = mapping[labels]\n",
        "    labels = torch.from_numpy(labels).cuda()\n",
        "\n",
        "    return images, labels"
      ],
      "execution_count": 3,
      "outputs": []
    },
    {
      "cell_type": "code",
      "metadata": {
        "id": "jz5i6LN1RBzM"
      },
      "source": [
        "dirname = \"/content/gdrive/My Drive/TalTech/Data Mining/emnist/\"\n",
        "X_train, Y_train = load_dataset(dirname + 'emnist-balanced-train-images-idx3-ubyte.gz',\n",
        "                                       dirname + 'emnist-balanced-train-labels-idx1-ubyte.gz',\n",
        "                                       dirname + 'emnist-balanced-mapping.txt')\n",
        "\n",
        "X_test, Y_test = load_dataset(dirname + 'emnist-balanced-test-images-idx3-ubyte.gz',\n",
        "                                       dirname + 'emnist-balanced-test-labels-idx1-ubyte.gz',\n",
        "                                       dirname + 'emnist-balanced-mapping.txt')"
      ],
      "execution_count": 4,
      "outputs": []
    },
    {
      "cell_type": "code",
      "metadata": {
        "colab": {
          "base_uri": "https://localhost:8080/"
        },
        "id": "_SyELImHaCZK",
        "outputId": "13590f41-f69f-4e32-fb4e-57288865b30e"
      },
      "source": [
        "print(X_train.shape)\n",
        "print(X_test.shape)"
      ],
      "execution_count": 5,
      "outputs": [
        {
          "output_type": "stream",
          "text": [
            "torch.Size([112800, 784])\n",
            "torch.Size([18800, 784])\n"
          ],
          "name": "stdout"
        }
      ]
    },
    {
      "cell_type": "code",
      "metadata": {
        "colab": {
          "base_uri": "https://localhost:8080/",
          "height": 620
        },
        "id": "E7n5QADP2k_R",
        "outputId": "0ed608d9-a960-4d0f-e03b-6a31bd2f8599"
      },
      "source": [
        "def plot_data(X, Y, columns, rows, pred=None):\n",
        "    fig = plt.figure(figsize=(15, 15))\n",
        "    \n",
        "    for i in range(columns * rows):\n",
        "        img = np.transpose(np.asarray((255 - X[i].cpu()).reshape(28, 28)))\n",
        "        fig.add_subplot(rows, columns, i+1)\n",
        "        plt.imshow(img, cmap=\"gray\")\n",
        "        ax = plt.gca()\n",
        "        ax.axis('off')\n",
        "        ax.text(0, 0, \"label: \" + chr(Y[i]), size=15, ha=\"left\", va=\"bottom\", transform=ax.transAxes)\n",
        "        if pred != None:\n",
        "            ax.text(1, 0, \"pred: \" + chr(pred[i]), size=15, ha=\"right\", va=\"bottom\", transform=ax.transAxes)\n",
        "    plt.show()\n",
        "plot_data(X_train[:10], Y_train[:10], 5, 2)"
      ],
      "execution_count": 60,
      "outputs": [
        {
          "output_type": "display_data",
          "data": {
            "image/png": "[encoded data removed]",
            "text/plain": [
              "<Figure size 1080x1080 with 10 Axes>"
            ]
          },
          "metadata": {
            "tags": [],
            "needs_background": "light"
          }
        }
      ]
    },
    {
      "cell_type": "code",
      "metadata": {
        "id": "6--2j7yL3X6T"
      },
      "source": [
        "#@title k-nearest neighbors (k-NN)\n",
        "def knn(dataset, labels, images, k, batch_size):\n",
        "    if images.dim() != 2:\n",
        "        raise ValueError(\"[!] images should have 2 dimensions. Index with X_test[:1] instead of X_test[0]\")\n",
        "    nm_of_images = images.shape[0]\n",
        "    guesses = ()\n",
        "    with torch.no_grad():\n",
        "        for i in range(0, nm_of_images, batch_size):\n",
        "            batch = images[i:i+batch_size]\n",
        "            batch = batch.reshape((-1, 28*28))\n",
        "            dists = torch.cdist(X_train, batch)\n",
        "            topk_val, topk_idx = dists.topk(k, dim=0, largest=False)\n",
        "            guess, _ = torch.mode(Y_train[topk_idx], dim=0)\n",
        "            guesses += (guess,)\n",
        "    return torch.cat(guesses, dim=0)\n"
      ],
      "execution_count": 7,
      "outputs": []
    },
    {
      "cell_type": "code",
      "metadata": {
        "colab": {
          "base_uri": "https://localhost:8080/"
        },
        "id": "hcIjn0xJdDHG",
        "outputId": "6c09068a-b10f-42d7-9577-8881fee0d435"
      },
      "source": [
        "#@title k-nearest neighbors (k-NN) one time run with form\n",
        "k = 3 #@param {type:\"slider\", min:0, max:10, step:1}\n",
        "batch_size = 10000 #@param {type:\"slider\", min:0, max:100000, step:1}\n",
        "\n",
        "result = knn(X_train, Y_train, X_test, k, batch_size)\n",
        "number_of_correct = torch.sum(result == Y_test)\n",
        "\n",
        "print(\"With k={}, {} correct guesses out of {}, {:.2f}%, {} classes\".format(k, number_of_correct,\n",
        "                                                                len(Y_test),\n",
        "                                                                number_of_correct / len(Y_test) * 100,\n",
        "                                                                len(torch.unique(Y_test))))\n",
        "plot_data(X_test[result!=Y_test], Y_test[result!=Y_test], 5, 2, result[result!=Y_test])\n",
        "del result\n",
        "del number_of_correct"
      ],
      "execution_count": 8,
      "outputs": [
        {
          "output_type": "stream",
          "text": [
            "With k=2, 14300 correct guesses out of 18800, 76.06%, 47 classes\n"
          ],
          "name": "stdout"
        }
      ]
    },
    {
      "cell_type": "code",
      "metadata": {
        "colab": {
          "base_uri": "https://localhost:8080/"
        },
        "id": "9wr4sNlRc3z2",
        "outputId": "97827a10-0566-4c80-90aa-84e9056e610f"
      },
      "source": [
        "#@title k-nearest neighbors (k-NN) tests\n",
        "for k in range(1, 8):\n",
        "    result = knn(X_train, Y_train, X_test, k, 10000)\n",
        "    number_of_correct = torch.sum(result == Y_test)\n",
        "    print(\"With k={}, {} correct guesses out of {}, {:.2f}%, {} classes\".format(k, number_of_correct,\n",
        "                                                                    len(Y_test),\n",
        "                                                                    number_of_correct / len(Y_test) * 100,\n",
        "                                                                    len(torch.unique(Y_test))))\n",
        "    del result\n",
        "    del number_of_correct"
      ],
      "execution_count": 9,
      "outputs": [
        {
          "output_type": "stream",
          "text": [
            "With k=1, 14452 correct guesses out of 18800, 76.87%, 47 classes\n",
            "With k=2, 14300 correct guesses out of 18800, 76.06%, 47 classes\n",
            "With k=3, 14667 correct guesses out of 18800, 78.02%, 47 classes\n",
            "With k=4, 14723 correct guesses out of 18800, 78.31%, 47 classes\n",
            "With k=5, 14751 correct guesses out of 18800, 78.46%, 47 classes\n",
            "With k=6, 14715 correct guesses out of 18800, 78.27%, 47 classes\n",
            "With k=7, 14739 correct guesses out of 18800, 78.40%, 47 classes\n"
          ],
          "name": "stdout"
        }
      ]
    },
    {
      "cell_type": "code",
      "metadata": {
        "colab": {
          "base_uri": "https://localhost:8080/",
          "height": 637
        },
        "id": "GSC0B5c2fR0p",
        "outputId": "bb1e4f6b-5f3a-4872-8487-93f575d9d9c0"
      },
      "source": [
        "k = 3\n",
        "batch_size = 10000\n",
        "\n",
        "result = knn(X_train, Y_train, X_test, k, batch_size)\n",
        "number_of_correct = torch.sum(result == Y_test)\n",
        "\n",
        "print(\"With k={}, {} correct guesses out of {}, {:.2f}%, {} classes\".format(k, number_of_correct,\n",
        "                                                                len(Y_test),\n",
        "                                                                number_of_correct / len(Y_test) * 100,\n",
        "                                                                len(torch.unique(Y_test))))\n",
        "plot_data(X_test[result!=Y_test], Y_test[result!=Y_test], 5, 2, result[result!=Y_test])"
      ],
      "execution_count": 61,
      "outputs": [
        {
          "output_type": "stream",
          "text": [
            "With k=3, 14667 correct guesses out of 18800, 78.02%, 47 classes\n"
          ],
          "name": "stdout"
        },
        {
          "output_type": "display_data",
          "data": {
            "image/png": "[encoded data removed]",
            "text/plain": [
              "<Figure size 1080x1080 with 10 Axes>"
            ]
          },
          "metadata": {
            "tags": [],
            "needs_background": "light"
          }
        }
      ]
    },
    {
      "cell_type": "code",
      "metadata": {
        "colab": {
          "base_uri": "https://localhost:8080/"
        },
        "id": "OkfhsYKZgm_h",
        "outputId": "aa69d9c2-9160-4a9e-ae6d-65215fdbc704"
      },
      "source": [
        "X_test[result!=Y_test].shape"
      ],
      "execution_count": 22,
      "outputs": [
        {
          "output_type": "execute_result",
          "data": {
            "text/plain": [
              "torch.Size([4133, 784])"
            ]
          },
          "metadata": {
            "tags": []
          },
          "execution_count": 22
        }
      ]
    },
    {
      "cell_type": "code",
      "metadata": {
        "colab": {
          "base_uri": "https://localhost:8080/",
          "height": 620
        },
        "id": "6mjvSbFwfcwX",
        "outputId": "6b814891-f4f6-4450-87c3-5284fbfeba1f"
      },
      "source": [
        "plot_data(X_test[result!=Y_test], Y_test[result!=Y_test], 5, 2, result[result!=Y_test])"
      ],
      "execution_count": 58,
      "outputs": [
        {
          "output_type": "display_data",
          "data": {
            "image/png": "[encoded data removed]",
            "text/plain": [
              "<Figure size 1080x1080 with 10 Axes>"
            ]
          },
          "metadata": {
            "tags": [],
            "needs_background": "light"
          }
        }
      ]
    },
    {
      "cell_type": "code",
      "metadata": {
        "id": "zQokpzPWeJK7"
      },
      "source": [
        "def LVQ(dataset, labels, image, k):\n",
        "    pass"
      ],
      "execution_count": 10,
      "outputs": []
    },
    {
      "cell_type": "code",
      "metadata": {
        "cellView": "form",
        "id": "N5pU618kaSQ9"
      },
      "source": [
        "#@title # Variable Inspector Widget (for debugging)\n",
        "#@markdown Included for debugging\n",
        "\n",
        "#@markdown Taken from https://github.com/jupyter-widgets/ipywidgets/blob/7.x/docs/source/examples/Variable%20Inspector.ipynb\n",
        "\n",
        "import ipywidgets as widgets # Loads the Widget framework.\n",
        "from IPython.core.magics.namespace import NamespaceMagics # Used to query namespace.\n",
        "\n",
        "# For this example, hide these names, just to avoid polluting the namespace further\n",
        "get_ipython().user_ns_hidden['widgets'] = widgets\n",
        "get_ipython().user_ns_hidden['NamespaceMagics'] = NamespaceMagics\n",
        "\n",
        "class VariableInspectorWindow(object):\n",
        "    instance = None\n",
        "    \n",
        "    def __init__(self, ipython):\n",
        "        \"\"\"Public constructor.\"\"\"\n",
        "        if VariableInspectorWindow.instance is not None:\n",
        "            raise Exception(\"\"\"Only one instance of the Variable Inspector can exist at a \n",
        "                time.  Call close() on the active instance before creating a new instance.\n",
        "                If you have lost the handle to the active instance, you can re-obtain it\n",
        "                via `VariableInspectorWindow.instance`.\"\"\")\n",
        "        \n",
        "        VariableInspectorWindow.instance = self\n",
        "        self.closed = False\n",
        "        self.namespace = NamespaceMagics()\n",
        "        self.namespace.shell = ipython.kernel.shell\n",
        "        \n",
        "        self._box = widgets.Box()\n",
        "        self._box.layout.overflow_y = 'scroll'\n",
        "        self._table = widgets.HTML(value = 'Not hooked')\n",
        "        self._box.children = [self._table]\n",
        "        \n",
        "        self._ipython = ipython\n",
        "        self._ipython.events.register('post_run_cell', self._fill)\n",
        "        \n",
        "    def close(self):\n",
        "        \"\"\"Close and remove hooks.\"\"\"\n",
        "        if not self.closed:\n",
        "            self._ipython.events.unregister('post_run_cell', self._fill)\n",
        "            self._box.close()\n",
        "            self.closed = True\n",
        "            VariableInspectorWindow.instance = None\n",
        "\n",
        "    def _fill(self):\n",
        "        \"\"\"Fill self with variable information.\"\"\"\n",
        "        values = self.namespace.who_ls()\n",
        "        self._table.value = '<div class=\"rendered_html jp-RenderedHTMLCommon\"><table><thead><tr><th>Name</th><th>Type</th><th>Value</th></tr></thead><tr><td>' + \\\n",
        "            '</td></tr><tr><td>'.join(['{0}</td><td>{1}</td><td>{2}'.format(v, type(eval(v)).__name__, str(eval(v))) for v in values]) + \\\n",
        "            '</td></tr></table></div>'\n",
        "\n",
        "    def _ipython_display_(self):\n",
        "        \"\"\"Called when display() or pyout is used to display the Variable \n",
        "        Inspector.\"\"\"\n",
        "        self._box._ipython_display_()\n",
        "inspector = VariableInspectorWindow(get_ipython())"
      ],
      "execution_count": 11,
      "outputs": []
    },
    {
      "cell_type": "code",
      "metadata": {
        "colab": {
          "base_uri": "https://localhost:8080/",
          "height": 791,
          "referenced_widgets": [
            "74ae45f1ae074da6911f69ab8adc9701",
            "a9e1768dffaf476aa12bd3d78f706e64",
            "68e5c051afd644cab24e6221fd71ed68",
            "800cb46a4e3a40e3b6281e016dc4c8c6",
            "7bbe4b7ceb1f42b0935f4fa96064ba0f"
          ]
        },
        "id": "mtoH_83waTJZ",
        "outputId": "7572de7a-4010-4ebf-8c1d-e67a179df1a9"
      },
      "source": [
        "inspector"
      ],
      "execution_count": 62,
      "outputs": [
        {
          "output_type": "display_data",
          "data": {
            "application/vnd.jupyter.widget-view+json": {
              "model_id": "74ae45f1ae074da6911f69ab8adc9701",
              "version_minor": 0,
              "version_major": 2
            },
            "text/plain": [
              "Box(children=(HTML(value='<div class=\"rendered_html jp-RenderedHTMLCommon\"><table><thead><tr><th>Name</th><th>…"
            ]
          },
          "metadata": {
            "tags": []
          }
        }
      ]
    },
    {
      "cell_type": "code",
      "metadata": {
        "id": "09JAAVZ2acOF"
      },
      "source": [
        "del wrong_guesses"
      ],
      "execution_count": 63,
      "outputs": []
    },
    {
      "cell_type": "code",
      "metadata": {
        "id": "xsfmF5ZxjXvF"
      },
      "source": [
        ""
      ],
      "execution_count": null,
      "outputs": []
    }
  ]
}